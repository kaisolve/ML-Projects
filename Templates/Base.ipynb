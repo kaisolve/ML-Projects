{
 "cells": [
  {
   "cell_type": "markdown",
   "id": "d9bb5301",
   "metadata": {},
   "source": [
    "# ML Base Temlate\n",
    "in order to make any ML model we need to do these steps in seq"
   ]
  },
  {
   "cell_type": "markdown",
   "id": "6fbaa4a4",
   "metadata": {},
   "source": [
    "# Get Data"
   ]
  },
  {
   "cell_type": "code",
   "execution_count": 4,
   "id": "cc2fbaa4",
   "metadata": {},
   "outputs": [],
   "source": [
    "# base imports\n",
    "import numpy as np\n",
    "import pandas as pd\n",
    "import matplotlib.pyplot as plt\n",
    "\n",
    "# Const\n",
    "dataset = 'Data.csv'\n",
    "test_size = 1/3\n",
    "features_num = 3"
   ]
  },
  {
   "cell_type": "code",
   "execution_count": 5,
   "id": "3d91b5fc",
   "metadata": {
    "scrolled": true
   },
   "outputs": [
    {
     "data": {
      "text/html": [
       "<div>\n",
       "<style scoped>\n",
       "    .dataframe tbody tr th:only-of-type {\n",
       "        vertical-align: middle;\n",
       "    }\n",
       "\n",
       "    .dataframe tbody tr th {\n",
       "        vertical-align: top;\n",
       "    }\n",
       "\n",
       "    .dataframe thead th {\n",
       "        text-align: right;\n",
       "    }\n",
       "</style>\n",
       "<table border=\"1\" class=\"dataframe\">\n",
       "  <thead>\n",
       "    <tr style=\"text-align: right;\">\n",
       "      <th></th>\n",
       "      <th>Country</th>\n",
       "      <th>Age</th>\n",
       "      <th>Salary</th>\n",
       "      <th>Purchased</th>\n",
       "    </tr>\n",
       "  </thead>\n",
       "  <tbody>\n",
       "    <tr>\n",
       "      <th>0</th>\n",
       "      <td>France</td>\n",
       "      <td>44.0</td>\n",
       "      <td>72000.0</td>\n",
       "      <td>No</td>\n",
       "    </tr>\n",
       "    <tr>\n",
       "      <th>1</th>\n",
       "      <td>Spain</td>\n",
       "      <td>27.0</td>\n",
       "      <td>48000.0</td>\n",
       "      <td>Yes</td>\n",
       "    </tr>\n",
       "    <tr>\n",
       "      <th>2</th>\n",
       "      <td>Germany</td>\n",
       "      <td>30.0</td>\n",
       "      <td>54000.0</td>\n",
       "      <td>No</td>\n",
       "    </tr>\n",
       "    <tr>\n",
       "      <th>3</th>\n",
       "      <td>Spain</td>\n",
       "      <td>38.0</td>\n",
       "      <td>61000.0</td>\n",
       "      <td>No</td>\n",
       "    </tr>\n",
       "    <tr>\n",
       "      <th>4</th>\n",
       "      <td>Germany</td>\n",
       "      <td>40.0</td>\n",
       "      <td>NaN</td>\n",
       "      <td>Yes</td>\n",
       "    </tr>\n",
       "  </tbody>\n",
       "</table>\n",
       "</div>"
      ],
      "text/plain": [
       "   Country   Age   Salary Purchased\n",
       "0   France  44.0  72000.0        No\n",
       "1    Spain  27.0  48000.0       Yes\n",
       "2  Germany  30.0  54000.0        No\n",
       "3    Spain  38.0  61000.0        No\n",
       "4  Germany  40.0      NaN       Yes"
      ]
     },
     "execution_count": 5,
     "metadata": {},
     "output_type": "execute_result"
    }
   ],
   "source": [
    "# read datasets\n",
    "data = pd.read_csv(dataset)\n",
    "data.head()"
   ]
  },
  {
   "cell_type": "markdown",
   "id": "1ea92d8a",
   "metadata": {},
   "source": [
    "# Prepair Data"
   ]
  },
  {
   "cell_type": "code",
   "execution_count": 6,
   "id": "b5e8b272",
   "metadata": {},
   "outputs": [],
   "source": [
    "# replace missing values (MAKE IT NUMERIC FIRST)\n",
    "from sklearn.impute import SimpleImputer\n",
    "imputer = SimpleImputer(missing_values=np.nan,strategy='mean')\n",
    "imputer.fit(data.iloc[:,1:3])\n",
    "data.iloc[:,1:3] = imputer.transform(data.iloc[:,1:3])\n",
    "# data\n",
    "\n",
    "# encode categorical data\n",
    "from sklearn.compose import ColumnTransformer\n",
    "from sklearn.preprocessing import OneHotEncoder\n",
    "ct=ColumnTransformer([('encoder',OneHotEncoder(),[0])],remainder='passthrough') # turn features to nums  \n",
    "data=pd.DataFrame(ct.fit_transform(data))\n",
    "# data\n",
    "\n",
    "# label encoder for Lablel (y)\n",
    "from sklearn.preprocessing import LabelEncoder\n",
    "le = LabelEncoder()\n",
    "data.iloc[:,-1]=le.fit_transform(data.iloc[:,-1])\n",
    "# data"
   ]
  },
  {
   "cell_type": "markdown",
   "id": "7b5e85bf",
   "metadata": {},
   "source": [
    "# Feature Engineering"
   ]
  },
  {
   "cell_type": "code",
   "execution_count": 7,
   "id": "94a975a8",
   "metadata": {},
   "outputs": [],
   "source": [
    "# reassign data after preprocessing\n",
    "X = data.iloc[:, :-1]\n",
    "y = data.iloc[:, -1]\n",
    "\n",
    "# feature scaling\n",
    "\n",
    "# Scale data (Standard Scaler)\n",
    "from sklearn.preprocessing import StandardScaler\n",
    "st = StandardScaler(copy=True,with_mean=True,with_std=True)\n",
    "X = pd.DataFrame(st.fit_transform(X))\n",
    "# X\n",
    "\n",
    "# Scale data (MinMax Scaler)\n",
    "from sklearn.preprocessing import MinMaxScaler\n",
    "scaler = MinMaxScaler()\n",
    "data = pd.DataFrame(scaler.fit_transform(data))\n",
    "# data"
   ]
  },
  {
   "cell_type": "code",
   "execution_count": 8,
   "id": "f9182f06",
   "metadata": {},
   "outputs": [],
   "source": [
    "# # SVM\n",
    "# import pandas as pd\n",
    "# from sklearn import svm\n",
    "# # so code is correct but i don't have the dataset (:\n",
    "\n",
    "# data = pd.read_csv('Data.csv')\n",
    "\n",
    "# X = data.drop('outcome', 1)\n",
    "# y = data['outcome']\n",
    "\n",
    "# from sklearn.model_selection import train_test_split\n",
    "# X_train, X_test, y_train, y_test = train_test_split(X, y, test_size=0.3)\n",
    "\n",
    "# classifiere = svm.SVC(kernel=\"rbf\")\n",
    "# classifiere.fit(X_train,y_train)\n",
    "\n",
    "# predections = classifiere.predict(X_test)\n",
    "\n",
    "# from sklearn.metrics import confusion_matrix\n",
    "# matrix = confusion_matrix(y_test,predections)\n",
    "# # matrix\n"
   ]
  },
  {
   "cell_type": "code",
   "execution_count": 9,
   "id": "885ca597",
   "metadata": {},
   "outputs": [],
   "source": [
    "# # Smote\n",
    "# import numpy as np\n",
    "# import pandas as pd\n",
    "# from sklearn import svm\n",
    "# from imblearn.over_sampling import SMOTE \n",
    "# # if imblearn not found install it using :\n",
    "# # conda install -c glemaitre imbalanced-learn\n",
    "\n",
    "# from sklearn.model_selection import train_test_split\n",
    "# from sklearn.metrics import classification_report\n",
    "\n",
    "# data = pd.read_csv('breast_cancer.csv')\n",
    "# # >>> data.target[[10, 50, 85]]\n",
    "\n",
    "# data.head()\n",
    "# print(data.shape)\n",
    "\n",
    "# X = data.iloc[:,:-2]\n",
    "# y = data.iloc[:,-2]\n",
    "\n",
    "# x_train, x_test, y_train, y_test=train_test_split(X,y,test_size=0.3)\n",
    "\n",
    "# sm = SMOTE()\n",
    "# x_res, y_res = sm.fit_resample(x_train, y_train)\n",
    "# print(x_res)\n",
    "# # you can print to make sure it's done\n",
    "\n",
    "# sample = data.sample(n=100, replace=False)\n",
    "# print(sample.shape)\n",
    "\n",
    "# # importing datasets from load_boston\n",
    "# import sklearn\n",
    "# # from sklearn.datasets import load_boston\n",
    "# # above line will make error as this dataset has been removed, \n",
    "# # you can still get datasets using same line just replace load_boston\n",
    "# # with your desired dataset name\n",
    "\n",
    "# from sklearn.datasets import load_breast_cancer\n",
    "# import pandas as pd\n",
    "# import matplotlib.pyplot as plt\n",
    "\n",
    "# bos_hou = load_breast_cancer()\n",
    "# column_name = bos_hou.feature_names\n",
    "# data = pd.DataFrame(bos_hou.data)\n",
    "# data.columns = column_name # to not be 0,1,2 etc but be column names\n",
    "# data.head()\n",
    "\n",
    "# # seaborn\n",
    "# import seaborn as sns\n",
    "# sns.boxenplot(data['mean concave points']) # box plot\n",
    "# data.plot.scatter(x='mean concave points',y='mean smoothness',s=10) # scatter plot\n",
    "\n"
   ]
  },
  {
   "cell_type": "markdown",
   "id": "24d84085",
   "metadata": {},
   "source": [
    "# Model Selection"
   ]
  },
  {
   "cell_type": "code",
   "execution_count": 10,
   "id": "589ee8da",
   "metadata": {},
   "outputs": [],
   "source": [
    "# split data to train test\n",
    "from sklearn.model_selection import train_test_split\n",
    "x_train, y_train, x_test, y_test = train_test_split(X, y, test_size=test_size, random_state=0)"
   ]
  },
  {
   "cell_type": "markdown",
   "id": "198f88bb",
   "metadata": {},
   "source": [
    "### Linear Regression"
   ]
  },
  {
   "cell_type": "code",
   "execution_count": 20,
   "id": "4add91b5",
   "metadata": {},
   "outputs": [],
   "source": [
    "# # linear regression\n",
    "# from sklearn.linear_model import LinearRegression\n",
    "# regressor = LinearRegression()\n",
    "# regressor.fit(x_train,y_train)\n",
    "# y_pred = regressor.predict(x_test)\n",
    "# # you can print intercept & cof as followed:\n",
    "# # print(\"intercept\" , regressor.intercept_)\n",
    "# # print(\"cof\" , regressor.coef_)\n",
    "# df = pd.DataFrame({'Actual': y_test, 'Predicted': y_pred})\n",
    "# df # show diff between actual & predict"
   ]
  },
  {
   "cell_type": "code",
   "execution_count": null,
   "id": "0fca14e2",
   "metadata": {},
   "outputs": [],
   "source": [
    "# # plot res\n",
    "# plt.title('Hours vs Percentage')\n",
    "# plt.xlabel('Hours Studied')\n",
    "# plt.ylabel('Percentage Score')\n",
    "# plt.plot(y_test,y_pred, color=\"blue\",linewidth=3)\n",
    "# plt.show()"
   ]
  },
  {
   "cell_type": "markdown",
   "id": "0fe88974",
   "metadata": {},
   "source": [
    "### Decision Tree"
   ]
  },
  {
   "cell_type": "code",
   "execution_count": 15,
   "id": "6e9e827d",
   "metadata": {},
   "outputs": [],
   "source": [
    "# # just need datasets\n",
    "\n",
    "# import pandas as pd\n",
    "# from sklearn.tree import DecisionTreeClassifier\n",
    "# from sklearn.metrics import accuracy_score\n",
    "\n",
    "# dtree = DecisionTreeClassifier()\n",
    "# dtree.fit(x_train, y_train)\n",
    "# pred = dtree.predict(x_test)\n",
    "# accuracy_score(y_test, pred)\n"
   ]
  },
  {
   "cell_type": "code",
   "execution_count": 16,
   "id": "d98e10b2",
   "metadata": {},
   "outputs": [],
   "source": [
    "# from six import StringIO\n",
    "# from IPython.display import Image\n",
    "# from sklearn.tree import export_graphviz\n",
    "# import pydotplus\n",
    "# dot_data = StringIO()\n",
    "# export_graphviz(dtree, out_file=dot_data, filled=True, rounded=True, feature_names= X.columns, class_names = ['0','1'])\n",
    "# graph = pydotplus.graph_from_dot_data(dot_data.getvalue())\n",
    "# graph.write_png('tree.png')\n",
    "# Image(graph.create_png())"
   ]
  },
  {
   "cell_type": "code",
   "execution_count": 17,
   "id": "b78f4357",
   "metadata": {},
   "outputs": [],
   "source": [
    "# dtree = DecisionTreeClassifier(criterion='gini')\n",
    "# dtree.fit(X_train, y_train)\n",
    "# pred = dtree.predict(X_test)\n",
    "# print('Criterion=gini',accuracy_score(y_test,pred))\n",
    "\n",
    "# dtree = DecisionTreeClassifier(criterion='entropy')\n",
    "# dtree.fit(X_train, y_train)\n",
    "# pred = dtree.predict(X_test)\n",
    "# print('Criterion=entropy',accuracy_score(y_test,pred))"
   ]
  },
  {
   "cell_type": "markdown",
   "id": "88ea7a1c",
   "metadata": {},
   "source": [
    "### PCA & Classification"
   ]
  },
  {
   "cell_type": "code",
   "execution_count": null,
   "id": "4481a66e",
   "metadata": {},
   "outputs": [],
   "source": [
    "# import pandas as pd\n",
    "# import pandas_profiling as pp\n",
    "\n",
    "# data = pd.read_csv('Data.csv')\n",
    "# data.head(10)\n",
    "# data.shape\n",
    "# pp.ProfileReport(data) # show summary of data\n"
   ]
  },
  {
   "cell_type": "code",
   "execution_count": null,
   "id": "d2e00239",
   "metadata": {},
   "outputs": [],
   "source": [
    "# # feature selection PCA\n",
    "# # you need first to clean data from nans & to onehot/label encode it\n",
    "# import pandas as pd\n",
    "# import numpy as np\n",
    "# from sklearn.decomposition import PCA\n",
    "# import matplotlib.pyplot as plt\n",
    "# df = pd.read_csv('Data.csv')\n",
    "# # X = df.drop('Purchased')\n",
    "# # y = df['Purchased']\n",
    "# X = df.iloc[:,1:-1]\n",
    "# y = df.iloc[:,-1]\n",
    "\n",
    "\n",
    "# pca = PCA(n_components = 2)\n",
    "# principalComponents = pca.fit_transform(X)\n",
    "# principalDf = pd.DataFrame(data = principalComponents, columns=['A','B'])\n",
    "# finalDf = pd.concat([principalDf,y],axis=1)\n",
    "# finalDf.to_csv('pcadata.csv',index=False, header= True)\n",
    "# exvar = pca.explained_variance_ratio_ # stores each component\n",
    "# cexvarsum = np.cumsum(exvar) # cum sum of what each component stores (data %)\n",
    "# print(exvar)\n",
    "# plt.bar(range(0,len(exvar)),exvar, label='Individual explained variance')\n",
    "# plt.step(range(0,len(cexvarsum)),cexvarsum, label='Cumulative explained variance')\n",
    "# plt.ylabel('Explained variance ratio')\n",
    "# plt.xlabel('Principal Component Index')\n",
    "# plt.legend(loc='lower right')\n",
    "# plt.show()"
   ]
  },
  {
   "cell_type": "markdown",
   "id": "ad271fc9",
   "metadata": {},
   "source": [
    "# Evaluate Model"
   ]
  },
  {
   "cell_type": "code",
   "execution_count": 19,
   "id": "5eb0447b",
   "metadata": {},
   "outputs": [],
   "source": [
    "# # print errors\n",
    "# from sklearn import metrics\n",
    "# print('Mean Absolute Error:',metrics.mean_absolute_error(y_test,y_pred))\n",
    "# print('Mean Squared Error:',metrics.mean_squared_error(y_test,y_pred))\n",
    "# print('Root Mean Squared Error:',np.sqrt(metrics.mean_squared_error(y_test,y_pred)))"
   ]
  }
 ],
 "metadata": {
  "kernelspec": {
   "display_name": "Python 3 (ipykernel)",
   "language": "python",
   "name": "python3"
  },
  "language_info": {
   "codemirror_mode": {
    "name": "ipython",
    "version": 3
   },
   "file_extension": ".py",
   "mimetype": "text/x-python",
   "name": "python",
   "nbconvert_exporter": "python",
   "pygments_lexer": "ipython3",
   "version": "3.11.5"
  }
 },
 "nbformat": 4,
 "nbformat_minor": 5
}
